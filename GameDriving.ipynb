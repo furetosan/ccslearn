{
 "cells": [
  {
   "cell_type": "code",
   "execution_count": 2,
   "metadata": {
    "collapsed": false
   },
   "outputs": [
    {
     "name": "stdout",
     "output_type": "stream",
     "text": [
      "2016-06-15 20:15:43.788 Python[12136:1446725] ApplePersistenceIgnoreState: Existing state will not be touched. New state will be written to /var/folders/73/0khfkvf55tj5ygwj6qsqwz640000gn/T/org.python.python.savedState\r\n"
     ]
    }
   ],
   "source": [
    "import cocos\n",
    "import pyglet\n",
    "from cocos.actions import *"
   ]
  },
  {
   "cell_type": "code",
   "execution_count": 3,
   "metadata": {
    "collapsed": false
   },
   "outputs": [
    {
     "name": "stdout",
     "output_type": "stream",
     "text": [
      "2016-06-15 20:17:50.780 Python[12151:1447462] ApplePersistenceIgnoreState: Existing state will not be touched. New state will be written to /var/folders/73/0khfkvf55tj5ygwj6qsqwz640000gn/T/org.python.python.savedState\n",
      "Traceback (most recent call last):\n",
      "  File \"_ctypes/callbacks.c\", line 314, in 'calling callback function'\n",
      "  File \"/Library/Frameworks/Python.framework/Versions/2.7/lib/python2.7/site-packages/pyglet/libs/darwin/cocoapy/runtime.py\", line 1121, in objc_method\n",
      "    result = f(py_self, *args)\n",
      "  File \"/Library/Frameworks/Python.framework/Versions/2.7/lib/python2.7/site-packages/pyglet/window/cocoa/pyglet_view.py\", line 157, in pygletKeyUp_\n",
      "    self._window.dispatch_event('on_key_release', symbol, modifiers)\n",
      "  File \"/Library/Frameworks/Python.framework/Versions/2.7/lib/python2.7/site-packages/pyglet/window/__init__.py\", line 1155, in dispatch_event\n",
      "    if EventDispatcher.dispatch_event(self, *args) != False:\n",
      "  File \"/Library/Frameworks/Python.framework/Versions/2.7/lib/python2.7/site-packages/pyglet/event.py\", line 355, in dispatch_event\n",
      "    if handler(*args):\n",
      "  File \"Laboratory.py\", line 59, in on_key_release\n",
      "    self.keys_pressed.remove (key)\n",
      "KeyError: 65289\n",
      "Traceback (most recent call last):\n",
      "  File \"_ctypes/callbacks.c\", line 314, in 'calling callback function'\n",
      "  File \"/Library/Frameworks/Python.framework/Versions/2.7/lib/python2.7/site-packages/pyglet/libs/darwin/cocoapy/runtime.py\", line 1121, in objc_method\n",
      "    result = f(py_self, *args)\n",
      "  File \"/Library/Frameworks/Python.framework/Versions/2.7/lib/python2.7/site-packages/pyglet/window/cocoa/pyglet_view.py\", line 157, in pygletKeyUp_\n",
      "    self._window.dispatch_event('on_key_release', symbol, modifiers)\n",
      "  File \"/Library/Frameworks/Python.framework/Versions/2.7/lib/python2.7/site-packages/pyglet/window/__init__.py\", line 1155, in dispatch_event\n",
      "    if EventDispatcher.dispatch_event(self, *args) != False:\n",
      "  File \"/Library/Frameworks/Python.framework/Versions/2.7/lib/python2.7/site-packages/pyglet/event.py\", line 355, in dispatch_event\n",
      "    if handler(*args):\n",
      "  File \"Laboratory.py\", line 59, in on_key_release\n",
      "    self.keys_pressed.remove (key)\n",
      "KeyError: 65293\n",
      "Traceback (most recent call last):\n",
      "  File \"_ctypes/callbacks.c\", line 314, in 'calling callback function'\n",
      "  File \"/Library/Frameworks/Python.framework/Versions/2.7/lib/python2.7/site-packages/pyglet/libs/darwin/cocoapy/runtime.py\", line 1121, in objc_method\n",
      "    result = f(py_self, *args)\n",
      "  File \"/Library/Frameworks/Python.framework/Versions/2.7/lib/python2.7/site-packages/pyglet/window/cocoa/pyglet_view.py\", line 157, in pygletKeyUp_\n",
      "    self._window.dispatch_event('on_key_release', symbol, modifiers)\n",
      "  File \"/Library/Frameworks/Python.framework/Versions/2.7/lib/python2.7/site-packages/pyglet/window/__init__.py\", line 1155, in dispatch_event\n",
      "    if EventDispatcher.dispatch_event(self, *args) != False:\n",
      "  File \"/Library/Frameworks/Python.framework/Versions/2.7/lib/python2.7/site-packages/pyglet/event.py\", line 355, in dispatch_event\n",
      "    if handler(*args):\n",
      "  File \"Laboratory.py\", line 59, in on_key_release\n",
      "    self.keys_pressed.remove (key)\n",
      "KeyError: 65293\n",
      "Traceback (most recent call last):\n",
      "  File \"_ctypes/callbacks.c\", line 314, in 'calling callback function'\n",
      "  File \"/Library/Frameworks/Python.framework/Versions/2.7/lib/python2.7/site-packages/pyglet/libs/darwin/cocoapy/runtime.py\", line 1121, in objc_method\n",
      "    result = f(py_self, *args)\n",
      "  File \"/Library/Frameworks/Python.framework/Versions/2.7/lib/python2.7/site-packages/pyglet/window/cocoa/pyglet_view.py\", line 157, in pygletKeyUp_\n",
      "    self._window.dispatch_event('on_key_release', symbol, modifiers)\n",
      "  File \"/Library/Frameworks/Python.framework/Versions/2.7/lib/python2.7/site-packages/pyglet/window/__init__.py\", line 1155, in dispatch_event\n",
      "    if EventDispatcher.dispatch_event(self, *args) != False:\n",
      "  File \"/Library/Frameworks/Python.framework/Versions/2.7/lib/python2.7/site-packages/pyglet/event.py\", line 355, in dispatch_event\n",
      "    if handler(*args):\n",
      "  File \"Laboratory.py\", line 59, in on_key_release\n",
      "    self.keys_pressed.remove (key)\n",
      "KeyError: 65293\n",
      "Traceback (most recent call last):\n",
      "  File \"_ctypes/callbacks.c\", line 314, in 'calling callback function'\n",
      "  File \"/Library/Frameworks/Python.framework/Versions/2.7/lib/python2.7/site-packages/pyglet/libs/darwin/cocoapy/runtime.py\", line 1121, in objc_method\n",
      "    result = f(py_self, *args)\n",
      "  File \"/Library/Frameworks/Python.framework/Versions/2.7/lib/python2.7/site-packages/pyglet/window/cocoa/pyglet_view.py\", line 157, in pygletKeyUp_\n",
      "    self._window.dispatch_event('on_key_release', symbol, modifiers)\n",
      "  File \"/Library/Frameworks/Python.framework/Versions/2.7/lib/python2.7/site-packages/pyglet/window/__init__.py\", line 1155, in dispatch_event\n",
      "    if EventDispatcher.dispatch_event(self, *args) != False:\n",
      "  File \"/Library/Frameworks/Python.framework/Versions/2.7/lib/python2.7/site-packages/pyglet/event.py\", line 355, in dispatch_event\n",
      "    if handler(*args):\n",
      "  File \"Laboratory.py\", line 59, in on_key_release\n",
      "    self.keys_pressed.remove (key)\n",
      "KeyError: 65293\n",
      "Traceback (most recent call last):\n",
      "  File \"Laboratory.py\", line 129, in <module>\n",
      "    cocos.director.director.run( cocos.scene.Scene( KeyDisplay(), MouseDisplay() ) )\n",
      "  File \"/Library/Frameworks/Python.framework/Versions/2.7/lib/python2.7/site-packages/cocos/director.py\", line 404, in run\n",
      "    event_loop.run()\n",
      "  File \"/Library/Frameworks/Python.framework/Versions/2.7/lib/python2.7/site-packages/pyglet/app/base.py\", line 136, in run\n",
      "    self._run_estimated()\n",
      "  File \"/Library/Frameworks/Python.framework/Versions/2.7/lib/python2.7/site-packages/pyglet/app/base.py\", line 165, in _run_estimated\n",
      "    timeout = self.idle()\n",
      "  File \"/Library/Frameworks/Python.framework/Versions/2.7/lib/python2.7/site-packages/pyglet/app/base.py\", line 280, in idle\n",
      "    window.dispatch_event('on_draw')\n",
      "  File \"/Library/Frameworks/Python.framework/Versions/2.7/lib/python2.7/site-packages/pyglet/window/__init__.py\", line 1155, in dispatch_event\n",
      "    if EventDispatcher.dispatch_event(self, *args) != False:\n",
      "  File \"/Library/Frameworks/Python.framework/Versions/2.7/lib/python2.7/site-packages/pyglet/event.py\", line 355, in dispatch_event\n",
      "    if handler(*args):\n",
      "  File \"/Library/Frameworks/Python.framework/Versions/2.7/lib/python2.7/site-packages/cocos/director.py\", line 458, in on_draw\n",
      "    self.scene.visit()\n",
      "AttributeError: 'NoneType' object has no attribute 'visit'\n"
     ]
    }
   ],
   "source": [
    "class MouseDisplay(cocos.layer.Layer):\n",
    "\n",
    "    is_event_handler = True     #: enable director.window events\n",
    "    def __init__(self):\n",
    "        super( MouseDisplay, self ).__init__()\n",
    "        self.posx = 100\n",
    "        self.posy = 240\n",
    "        self.text = cocos.text.Label('No mouse events yet', font_size=18, x=self.posx, y=self.posy )\n",
    "        self.add( self.text )\n",
    "\n",
    "    def update_text (self, x, y):\n",
    "        text = 'Mouse @ %d,%d' % (x, y)\n",
    "        self.text.element.text = text\n",
    "        self.text.element.x = self.posx\n",
    "        self.text.element.y = self.posy\n",
    "\n",
    "    def on_mouse_motion (self, x, y, dx, dy):\n",
    "        \"\"\"Called when the mouse moves over the app window with no button pressed\n",
    "\n",
    "        (x, y) are the physical coordinates of the mouse\n",
    "        (dx, dy) is the distance vector covered by the mouse pointer since the\n",
    "          last call.\n",
    "        \"\"\"\n",
    "        self.update_text (x, y)\n",
    "\n",
    "    def on_mouse_drag (self, x, y, dx, dy, buttons, modifiers):\n",
    "        \"\"\"Called when the mouse moves over the app window with some button(s) pressed\n",
    "\n",
    "        (x, y) are the physical coordinates of the mouse\n",
    "        (dx, dy) is the distance vector covered by the mouse pointer since the\n",
    "          last call.\n",
    "        'buttons' is a bitwise or of pyglet.window.mouse constants LEFT, MIDDLE, RIGHT\n",
    "        'modifiers' is a bitwise or of pyglet.window.key modifier constants\n",
    "           (values like 'SHIFT', 'OPTION', 'ALT')\n",
    "        \"\"\"\n",
    "        self.update_text (x, y)\n",
    "\n",
    "    def on_mouse_press (self, x, y, buttons, modifiers):\n",
    "        \"\"\"This function is called when any mouse button is pressed\n",
    "    \n",
    "        (x, y) are the physical coordinates of the mouse\n",
    "        'buttons' is a bitwise or of pyglet.window.mouse constants LEFT, MIDDLE, RIGHT\n",
    "        'modifiers' is a bitwise or of pyglet.window.key modifier constants\n",
    "           (values like 'SHIFT', 'OPTION', 'ALT')\n",
    "        \"\"\"\n",
    "        self.posx, self.posy = cocos.director.director.get_virtual_coordinates (x, y)\n",
    "        self.update_text (x,y)"
   ]
  },
  {
   "cell_type": "code",
   "execution_count": null,
   "metadata": {
    "collapsed": true
   },
   "outputs": [],
   "source": []
  }
 ],
 "metadata": {
  "kernelspec": {
   "display_name": "Python 3",
   "language": "python",
   "name": "python3"
  },
  "language_info": {
   "codemirror_mode": {
    "name": "ipython",
    "version": 3
   },
   "file_extension": ".py",
   "mimetype": "text/x-python",
   "name": "python",
   "nbconvert_exporter": "python",
   "pygments_lexer": "ipython3",
   "version": "3.5.1"
  }
 },
 "nbformat": 4,
 "nbformat_minor": 0
}
